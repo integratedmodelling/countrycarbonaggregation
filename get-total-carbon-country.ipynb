{
 "cells": [
  {
   "cell_type": "markdown",
   "metadata": {},
   "source": [
    "# Total carbon per country\n",
    "\n",
    "- In this code we calculate the total carbon pero country with a csv as an output with the values classified in different years\n",
    "- summary of the process:\n",
    "  - get both rasters and vector data\n",
    "  - adapt a table for the output\n",
    "  - iterate over the rasters and iterate over the vector data\n",
    "  - do the masking and sum the values of the output raster (array)\n",
    "  - collect the results into a list\n",
    "  - append the results to the adapted final table"
   ]
  },
  {
   "cell_type": "code",
   "execution_count": 1,
   "metadata": {},
   "outputs": [],
   "source": [
    "import os\n",
    "import geopandas as gpd\n",
    "import rasterio\n",
    "import rasterio.mask\n",
    "from affine import Affine\n",
    "import matplotlib.pyplot as plt\n",
    "import numpy as np\n",
    "import pandas as pd\n",
    "import math\n",
    "import platform"
   ]
  },
  {
   "cell_type": "code",
   "execution_count": 2,
   "metadata": {},
   "outputs": [
    {
     "data": {
      "text/plain": [
       "['\\\\\\\\akif.internal\\\\public\\\\veg_c_storage_rawdata\\\\vcs_2001_global_300m.tif']"
      ]
     },
     "execution_count": 2,
     "metadata": {},
     "output_type": "execute_result"
    }
   ],
   "source": [
    "\"\"\"This is the location of the raster files\"\"\"\n",
    "# Note: the file name structure must be vcs_YYYY_global_300m.tif'\n",
    "path = r\"//akif.internal/public/veg_c_storage_rawdata\"\n",
    "\n",
    "\"\"\"Get a list of the raster files inside the folder\"\"\"\n",
    "File_list = []\n",
    "for file in os.listdir(path):\n",
    "    # Iterate over all the files in the specified directory.\n",
    "    if \".tif\" in file:\n",
    "        # Process the file if it has a .tif format.\n",
    "        if platform.system() is \"Windows\":\n",
    "            address = os.path.join(path, file).replace(\"/\",\"\\\\\")\n",
    "        else:\n",
    "            address = os.path.join(path, file).replace(\"\\\\\",\"/\")\n",
    "            #build the path according the OS running the script\n",
    "        if address not in File_list:\n",
    "            # Add the file address to the list if it had not been added before.\n",
    "            File_list.append(address)\n",
    "    else:\n",
    "        pass\n",
    "\n",
    "File_list[0:1]"
   ]
  },
  {
   "cell_type": "code",
   "execution_count": 3,
   "metadata": {},
   "outputs": [],
   "source": [
    "\"\"\"This is the location of the vector global layer\"\"\"\n",
    "globalmap = r\"\\\\akif.internal\\public\\z_resources\\im-wb\\2015_gaul_dataset_mod_2015_gaul_dataset_gdba0000000b.shp\"\n",
    "\n",
    "if platform.system() is \"Windows\":\n",
    "    globalmap = globalmap.replace(\"/\",\"\\\\\")\n",
    "else:\n",
    "    globalmap = globalmap.replace(\"\\\\\",\"/\")\n",
    "    #build the path according the OS running the script\n",
    "\n",
    "\"\"\"Prepare the dataframe / df for the final table\"\"\"   \n",
    "gdf = gpd.read_file(globalmap)\n",
    "\n",
    "df_final = pd.DataFrame(gdf.drop(columns='geometry'))\n",
    "df_final = df_final.drop([\"STATUS\", \"DISP_AREA\", \"ADM0_CODE\", \"STR0_YEAR\", \"EXP0_YEAR\", \"Shape_Leng\", \"ISO3166_1_\", \"ISO3166__1\", \"Shape_Le_1\", \"Shape_Area\"], axis = 1)\n"
   ]
  },
  {
   "cell_type": "code",
   "execution_count": 8,
   "metadata": {},
   "outputs": [],
   "source": [
    "def area_of_pixel(pixel_size, center_lat):\n",
    "\n",
    "    a = 6378137  # meters\n",
    "    b = 6356752.3142  # meters\n",
    "    e = math.sqrt(1 - (b/a)**2)\n",
    "    area_list = []\n",
    "    for f in [center_lat+pixel_size/2, center_lat-pixel_size/2]:\n",
    "        zm = 1 - e*math.sin(math.radians(f))\n",
    "        zp = 1 + e*math.sin(math.radians(f))\n",
    "        area_list.append(\n",
    "            math.pi * b**2 * (\n",
    "                math.log(zp/zm) / (2*e) +\n",
    "                math.sin(math.radians(f)) / (zp*zm)))\n",
    "    return (pixel_size / 360. * (area_list[0] - area_list[1])) * np.power(10.0,-4) "
   ]
  },
  {
   "cell_type": "code",
   "execution_count": 4,
   "metadata": {},
   "outputs": [],
   "source": [
    "def get_raster_area(baseline_raster, out_transform, pixel_size):\n",
    " \n",
    "    # Obtain the number of tiles in both directions.\n",
    "    height = baseline_raster.shape[2]\n",
    "    width  = baseline_raster.shape[1]\n",
    "    \n",
    "    # Create matrix of coordinates based in tile number.\n",
    "    cols, rows = np.meshgrid(np.arange(width), np.arange(height))\n",
    "   \n",
    "    # Transform the tile number coordinates to real coordinates and extract only latitude information. \n",
    "    ys = rasterio.transform.xy(out_transform, rows, cols)[1]\n",
    "    latitudes = np.array(ys) # Cast the list of arrays to a 2D array for computational convenience.\n",
    "\n",
    "    # Iterate over the latitudes matrix, calculate the area of each tile and store it in the real_raster_areas array.\n",
    "    real_raster_areas = np.zeros(latitudes)\n",
    "    for i, latitude_array in enumerate(latitudes):\n",
    "        for j, latitude in enumerate(latitude_array):\n",
    "            real_raster_areas[i,j] = area_of_pixel(pixel_size, latitude)\n",
    "\n",
    "    return real_raster_areas"
   ]
  },
  {
   "cell_type": "code",
   "execution_count": 29,
   "metadata": {},
   "outputs": [
    {
     "name": "stdout",
     "output_type": "stream",
     "text": [
      "We are working with the file \\\\akif.internal\\public\\veg_c_storage_rawdata\\vcs_2001_global_300m.tif from the year 2001\n",
      "We are working with the file \\\\akif.internal\\public\\veg_c_storage_rawdata\\vcs_2002_global_300m.tif from the year 2002\n"
     ]
    }
   ],
   "source": [
    "for file in File_list[0:2]: # CUIDATO CUANDO TERMINES BORRALO\n",
    "    \"\"\"Take the year of the file\"\"\"\n",
    "    file_start = file.find(\"vcs_\") + 4\n",
    "    file_end = file_start + 4\n",
    "    file_year = str(file[file_start:file_end])\n",
    "    print(\"We are working with the file {} from the year {}\".format(file, file_year))\n"
   ]
  },
  {
   "cell_type": "code",
   "execution_count": 30,
   "metadata": {},
   "outputs": [
    {
     "name": "stdout",
     "output_type": "stream",
     "text": [
      " Finished calculating 2001 year rasternternal\\public\\veg_c_storage_rawdata\\vcs_2001_global_300m.tif from the year 2001"
     ]
    },
    {
     "data": {
      "text/plain": [
       "'Export the result'"
      ]
     },
     "execution_count": 30,
     "metadata": {},
     "output_type": "execute_result"
    }
   ],
   "source": [
    "\"\"\"We set ourselves in the folder with the rasters\"\"\"\n",
    "os.chdir(path)\n",
    "\n",
    "\"\"\"Iterate the rasters\"\"\"\n",
    "for file in File_list[0:1]: # Delte 0:1 once testing is finished\n",
    "    \"\"\"Take the year of the file\"\"\"\n",
    "    file_start = file.find(\"vcs_\") + 4\n",
    "    file_end = file_start + 4\n",
    "    file_year = str(file[file_start:file_end])\n",
    "    print(\"\\r\", \"We are working with the file {} from the year {}\".format(file, file_year), end=\"\")\n",
    "\n",
    "    \"\"\"Create a list of the carbon values\"\"\"\n",
    "    carbon_values = []\n",
    "\n",
    "    \"\"\"Open the raster\"\"\"\n",
    "    with rasterio.open(file) as raster_file:\n",
    "\n",
    "        gt = raster_file.transform # Get all the raster properties on a list.\n",
    "        pixel_size = gt[0]\n",
    "\n",
    "        \"\"\"Iterate on the gdf\"\"\"\n",
    "        for row_index, row in gdf.loc[0:1].iterrows(): # gdf.loc[0:1].iterrows():\n",
    "            geo_row = gpd.GeoSeries(row['geometry'])\n",
    "\n",
    "            \"\"\"Do the masking\"\"\"\n",
    "            out_image, out_transform = rasterio.mask.mask(raster_file, geo_row, crop=True)\n",
    "\n",
    "            \"\"\"get the pixel area value\"\"\"\n",
    "            \n",
    "            # Create a global raster where each pixel's value corresponds to its true area in hectares.\n",
    " \n",
    "            # Obtain the number of tiles in both directions.\n",
    "            height = out_image.shape[2]\n",
    "            width  = out_image.shape[1]\n",
    "            \n",
    "            # Create matrix of coordinates based in tile number.\n",
    "            cols, rows = np.meshgrid(np.arange(width), np.arange(height))\n",
    "        \n",
    "            # Transform the tile number coordinates to real coordinates and extract only latitude information. \n",
    "            ys = rasterio.transform.xy(out_transform, rows, cols)[1]\n",
    "            latitudes = np.array(ys) # Cast the list of arrays to a 2D array for computational convenience.\n",
    "\n",
    "            # Iterate over the latitudes matrix, calculate the area of each tile and store it in the real_raster_areas array.\n",
    "            real_raster_areas = np.empty(np.shape(latitudes))\n",
    "            for i, latitude_array in enumerate(latitudes):\n",
    "                for j, latitude in enumerate(latitude_array):\n",
    "                    real_raster_areas[i,j] = area_of_pixel(pixel_size, latitude)\n",
    "\n",
    "            \n",
    "\n",
    "            # Calculate the total carbon stock in each tile: tonnes/hectare * hectares = tonnes.    \n",
    "            total_carbon_stock_array = real_raster_areas * np.transpose(out_image[0,:,:])\n",
    "\n",
    "            # Sum all the carbon stock values in the country treating NaNs as 0.0. \n",
    "            total_carbon_stock = np.nansum(total_carbon_stock_array) \n",
    "\n",
    "            \"\"\"Sum the values ignoring the nan values\"\"\"\n",
    "            # carbon_total = np.nansum(out_image) # nansum treats nan values as 0, we have to do this since with sum we get as result nan\n",
    "\n",
    "            \"\"\"Append the value to the list\"\"\"\n",
    "            carbon_values.append(total_carbon_stock)\n",
    "\n",
    "            print(\"\\r\", \"the country {} is finished\".format(row[\"ADM0_NAME\"]), end=\"\") #this is, so we delete the previous print\n",
    "            \n",
    "    print(\"\\r\", \"Finished calculating {} year raster\".format(file_year), end=\"\")\n",
    "        # time: for 1 year took 83m\n",
    "\n",
    "    \"\"\"Transform the list into a dataframe with the header of the year\"\"\"\n",
    "    carbon_values_s = pd.DataFrame(carbon_values, columns = [file_year])\n",
    "\n",
    "    \"\"\"Append the dataframe to the final dataframe\"\"\"\n",
    "    df_final = df_final.join(carbon_values_s)\n",
    "    \n",
    "\"\"\"Export the result\"\"\"\n",
    "# df_final.to_csv(\"total_carbon.csv\")"
   ]
  },
  {
   "cell_type": "code",
   "execution_count": null,
   "metadata": {},
   "outputs": [],
   "source": []
  },
  {
   "cell_type": "markdown",
   "metadata": {},
   "source": [
    "Here is the same code separated in different blocks for testing"
   ]
  },
  {
   "cell_type": "code",
   "execution_count": null,
   "metadata": {},
   "outputs": [],
   "source": [
    "\"\"\"This is the location of the raster files\"\"\"\n",
    "# Note: the file name structure must be vcs_YYYY_global_300m.tif'\n",
    "path = r\"//akif.internal/public/veg_c_storage_rawdata\"\n",
    "\n",
    "\"\"\"Get a list of the raster files inside the folder\"\"\"\n",
    "File_list = [] #f for f in os.listdir(path) if os.isfile(mypath,f)\n",
    "for file in os.listdir(path):\n",
    "    if \".tif\" in file:\n",
    "        address = os.path.join(path, file).replace(\"\\\\\",\"/\")\n",
    "        if address not in File_list:\n",
    "            File_list.append(address)\n",
    "    else:\n",
    "        pass\n",
    "print(File_list)"
   ]
  },
  {
   "cell_type": "code",
   "execution_count": 4,
   "metadata": {},
   "outputs": [
    {
     "name": "stdout",
     "output_type": "stream",
     "text": [
      "We are working with the file vcs_2001_global_300m.tif from the year 2001\n"
     ]
    }
   ],
   "source": [
    "\"\"\"We set ourselves in the folder with the rasters\"\"\"\n",
    "os.chdir(path)\n",
    "\n",
    "\"\"\"Iterate the rasters\"\"\"\n",
    "for file in File_list[0:1]:\n",
    "    \"\"\"Take the year of the file\"\"\"\n",
    "    file_year = str(file[4:8])\n",
    "    print(\"We are working with the file {} from the year {}\".format(file, file_year))"
   ]
  },
  {
   "cell_type": "code",
   "execution_count": 7,
   "metadata": {},
   "outputs": [
    {
     "name": "stdout",
     "output_type": "stream",
     "text": [
      "the country Mozambique is finished\n",
      "the country Mauritius is finished\n",
      "Finished calculating 2001 Year\n"
     ]
    }
   ],
   "source": [
    "aggregated_carbon_stock_df = pd.DataFrame([])\n",
    "\n",
    "carbon_values = []\n",
    "\n",
    "\"\"\"Iterate on the gdf\"\"\"\n",
    "for row_index, row in gdf.loc[0:1].iterrows(): # gdf.loc[0:1].iterrows():\n",
    "    geo_row = gpd.GeoSeries(row['geometry'])\n",
    "\n",
    "    \"\"\"Do the masking\"\"\"\n",
    "    with rasterio.open(file) as raster_file:\n",
    "        \n",
    "        \n",
    "        \n",
    "        # band = raster_file.read(1)\n",
    "        out_image, out_transform = rasterio.mask.mask(raster_file, geo_row, crop=True)\n",
    "\n",
    "        \"\"\"get the pixel size\"\"\"\n",
    "        gt = raster_file.transform\n",
    "        pixelSizeX = gt[0]\n",
    "        pixelSizeY =-gt[4]\n",
    "\n",
    "\n",
    "        \"\"\"get pixel coordinates\"\"\"\n",
    "        # out_transform_t1 = out_transform * Affine.translation(0.5, 0.5)\n",
    "        # rc2xy = lambda raster_file, c: out_transform_t1 * (c, raster_file)\n",
    "        \n",
    "    \"\"\"Sum the values ignoring the nan values\"\"\"\n",
    "    carbon_total = np.nansum(out_image) # nansum treats nan values as 0, we have to do this since with sum we get as result nan\n",
    "\n",
    "    \"\"\"Append the value to the list\"\"\"\n",
    "    carbon_values.append(carbon_total)\n",
    "\n",
    "    print(\"the country {} is finished\".format(row[\"ADM0_NAME\"]))\n",
    "    \n",
    "print(\"Finished calculating {} Year\".format(file_year))\n",
    "# time: for 1 year took 83m\n",
    "\n",
    "aggregated_carbon_stock = pd.DataFrame(carbon_values, columns = [file_year]) \n",
    "\n",
    "# Join this year's carbon stocks to the final, multi-year DataFrame.\n",
    "aggregated_carbon_stock_df = pd.merge(aggregated_carbon_stock_df, aggregated_carbon_stock, how='outer', left_index = True, right_index=True)"
   ]
  },
  {
   "cell_type": "code",
   "execution_count": 20,
   "metadata": {},
   "outputs": [
    {
     "name": "stdout",
     "output_type": "stream",
     "text": [
      "lons shape (2491, 3669)\n"
     ]
    }
   ],
   "source": [
    "height = out_image.shape[2]\n",
    "width = out_image.shape[1]\n",
    "cols, rows = np.meshgrid(np.arange(width), np.arange(height))\n",
    "xs, ys = rasterio.transform.xy(out_transform, rows, cols)\n",
    "lons= np.array(xs)\n",
    "latitudes = np.array(ys)\n",
    "print('lons shape', lons.shape)\n"
   ]
  },
  {
   "cell_type": "code",
   "execution_count": 18,
   "metadata": {},
   "outputs": [],
   "source": [
    "import math \n",
    "def area_of_pixel(pixel_size, center_lat):\n",
    "    \"\"\"Calculate m^2 area of a wgs84 square pixel.\n",
    "\n",
    "    Adapted from: https://gis.stackexchange.com/a/127327/2397\n",
    "\n",
    "    Parameters:\n",
    "        pixel_size (float): length of side of pixel in degrees.\n",
    "        center_lat (float): latitude of the center of the pixel. Note this\n",
    "            value +/- half the `pixel-size` must not exceed 90/-90 degrees\n",
    "            latitude or an invalid area will be calculated.\n",
    "\n",
    "    Returns:\n",
    "        Area of square pixel of side length `pixel_size` centered at\n",
    "        `center_lat` in m^2.\n",
    "\n",
    "    \"\"\"\n",
    "    a = 6378137  # meters\n",
    "    b = 6356752.3142  # meters\n",
    "    e = math.sqrt(1 - (b/a)**2)\n",
    "    area_list = []\n",
    "    for f in [center_lat+pixel_size/2, center_lat-pixel_size/2]:\n",
    "        zm = 1 - e*math.sin(math.radians(f))\n",
    "        zp = 1 + e*math.sin(math.radians(f))\n",
    "        area_list.append(\n",
    "            math.pi * b**2 * (\n",
    "                math.log(zp/zm) / (2*e) +\n",
    "                math.sin(math.radians(f)) / (zp*zm)))\n",
    "    return pixel_size / 360. * (area_list[0] - area_list[1])"
   ]
  },
  {
   "cell_type": "code",
   "execution_count": 23,
   "metadata": {},
   "outputs": [],
   "source": [
    "real_raster_areas = np.zeros(latitudes.shape)\n",
    "for i, latitude_array in enumerate(latitudes):\n",
    "    for j, latitude in enumerate(latitude_array):\n",
    "        real_raster_areas[i,j] = area_of_pixel(10, latitude)\n"
   ]
  },
  {
   "cell_type": "code",
   "execution_count": null,
   "metadata": {},
   "outputs": [],
   "source": [
    "\n",
    "with rasterio.open(file) as src:\n",
    "    band1 = src.read(1)\n",
    "    height = band1.shape[0]\n",
    "    width = band1.shape[1]\n",
    "    cols, rows = np.meshgrid(np.arange(width), np.arange(height))\n",
    "    xs, ys = rasterio.transform.xy(src.transform, rows, cols)\n",
    "    lons= np.array(xs)\n",
    "    lats = np.array(ys)"
   ]
  },
  {
   "cell_type": "code",
   "execution_count": null,
   "metadata": {},
   "outputs": [],
   "source": []
  },
  {
   "cell_type": "code",
   "execution_count": 34,
   "metadata": {},
   "outputs": [
    {
     "name": "stdout",
     "output_type": "stream",
     "text": [
      "[ 0.  1.  5. nan]\n",
      "11422 7\n"
     ]
    }
   ],
   "source": [
    "\"\"\"Check if the result is correct\"\"\"\n",
    "print(np.unique(out_image))\n",
    "count_5 = np.count_nonzero(out_image == 5)\n",
    "count_1 = np.count_nonzero(out_image == 1)\n",
    "print(count_5, count_1)"
   ]
  },
  {
   "cell_type": "code",
   "execution_count": 50,
   "metadata": {},
   "outputs": [],
   "source": [
    "\"\"\"Transform the list into a dataframe with the header of the year\"\"\"\n",
    "carbon_values_s = pd.DataFrame(carbon_values, columns = [file_year])\n"
   ]
  },
  {
   "cell_type": "code",
   "execution_count": 51,
   "metadata": {},
   "outputs": [],
   "source": [
    "\"\"\"Append the dataframe to the final dataframe\"\"\"\n",
    "df_final_copy = df_final.join(carbon_values_s)"
   ]
  },
  {
   "cell_type": "code",
   "execution_count": 53,
   "metadata": {},
   "outputs": [],
   "source": [
    "\"\"\"Export the result\"\"\"\n",
    "df_final_copy.to_csv(\"total_carbon.csv\")"
   ]
  },
  {
   "cell_type": "code",
   "execution_count": null,
   "metadata": {},
   "outputs": [],
   "source": [
    "\"\"\"This is the output method for rasterio\n",
    "the code expects 2 dimensions (height and width), so we \n",
    "have to transform the array from 3 to two dimensions like this [0,:,:]\n",
    "\"\"\"\n",
    "\n",
    "\"\"\"Prepare the metadata for the output\"\"\"\n",
    "out_band = raster_file.read(1)\n",
    "out_meta = raster_file.meta\n",
    "out_meta.update(\n",
    "        dtype=rasterio.uint8,\n",
    "        count=1,\n",
    "        compress='lzw')\n",
    "\n",
    "\"\"\"testing write result\"\"\"\n",
    "with rasterio.open(os.path.join(path, 'test.tif'), 'w', **out_meta) as dst:\n",
    "    dst.write_band(1, out_image[0,:,:].astype(rasterio.float32))"
   ]
  }
 ],
 "metadata": {
  "kernelspec": {
   "display_name": "Python 3.7.12 ('geo_env')",
   "language": "python",
   "name": "python3"
  },
  "language_info": {
   "codemirror_mode": {
    "name": "ipython",
    "version": 3
   },
   "file_extension": ".py",
   "mimetype": "text/x-python",
   "name": "python",
   "nbconvert_exporter": "python",
   "pygments_lexer": "ipython3",
   "version": "3.7.12"
  },
  "orig_nbformat": 4,
  "vscode": {
   "interpreter": {
    "hash": "3443882cbf9cbaf6f42816cc7aa7f372c345ad680ada25690ad2174b0388f2b7"
   }
  }
 },
 "nbformat": 4,
 "nbformat_minor": 2
}
