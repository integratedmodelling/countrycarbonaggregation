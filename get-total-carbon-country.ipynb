{
 "cells": [
  {
   "cell_type": "markdown",
   "metadata": {},
   "source": [
    "# Total carbon per country\n",
    "\n",
    "- In this code we calculate the total carbon pero country with a csv as an output with the values classified in different years\n",
    "- summary of the process:\n",
    "  - get both rasters and vector data\n",
    "  - adapt a table for the output\n",
    "  - iterate over the rasters and iterate over the vector data\n",
    "  - do the masking and sum the values of the output raster (array)\n",
    "  - collect the results into a list\n",
    "  - append the results to the adapted final table"
   ]
  },
  {
   "cell_type": "code",
   "execution_count": 17,
   "metadata": {},
   "outputs": [],
   "source": [
    "import os\n",
    "import geopandas as gpd\n",
    "import rasterio\n",
    "import rasterio.mask\n",
    "from affine import Affine\n",
    "import matplotlib.pyplot as plt\n",
    "import numpy as np\n",
    "import pandas as pd\n",
    "import math\n",
    "import platform\n",
    "from rasterio.plot import show"
   ]
  },
  {
   "cell_type": "code",
   "execution_count": 13,
   "metadata": {},
   "outputs": [
    {
     "data": {
      "text/plain": [
       "['\\\\\\\\akif.internal\\\\public\\\\veg_c_storage_rawdata\\\\vcs_2001_global_300m.tif']"
      ]
     },
     "execution_count": 13,
     "metadata": {},
     "output_type": "execute_result"
    }
   ],
   "source": [
    "\"\"\"This is the location of the raster files\"\"\"\n",
    "# Note: the file name structure must be vcs_YYYY_global_300m.tif'\n",
    "path = r\"//akif.internal/public/veg_c_storage_rawdata\"\n",
    "\n",
    "\"\"\"Get a list of the raster files inside the folder\"\"\"\n",
    "File_list = []\n",
    "for file in os.listdir(path):\n",
    "    # Iterate over all the files in the specified directory.\n",
    "    if \".tif\" in file:\n",
    "        # Process the file if it has a .tif format.\n",
    "        if platform.system() is \"Windows\":\n",
    "            address = os.path.join(path, file).replace(\"/\",\"\\\\\")\n",
    "        else:\n",
    "            address = os.path.join(path, file).replace(\"\\\\\",\"/\")\n",
    "            #build the path according the OS running the script\n",
    "        if address not in File_list:\n",
    "            # Add the file address to the list if it had not been added before.\n",
    "            File_list.append(address)\n",
    "    else:\n",
    "        pass\n",
    "\n",
    "File_list[0:1]"
   ]
  },
  {
   "cell_type": "code",
   "execution_count": 14,
   "metadata": {},
   "outputs": [],
   "source": [
    "\"\"\"This is the location of the vector global layer\"\"\"\n",
    "globalmap = r\"\\\\akif.internal\\public\\z_resources\\im-wb\\2015_gaul_dataset_mod_2015_gaul_dataset_gdba0000000b.shp\"\n",
    "\n",
    "if platform.system() is \"Windows\":\n",
    "    globalmap = globalmap.replace(\"/\",\"\\\\\")\n",
    "else:\n",
    "    globalmap = globalmap.replace(\"\\\\\",\"/\")\n",
    "    #build the path according the OS running the script\n",
    "\n",
    "\"\"\"Prepare the dataframe / df for the final table\"\"\"   \n",
    "gdf = gpd.read_file(globalmap)\n",
    "\n",
    "df_final = pd.DataFrame(gdf.drop(columns='geometry'))\n",
    "df_final = df_final.drop([\"STATUS\", \"DISP_AREA\", \"ADM0_CODE\", \"STR0_YEAR\", \"EXP0_YEAR\", \"Shape_Leng\", \"ISO3166_1_\", \"ISO3166__1\", \"Shape_Le_1\", \"Shape_Area\"], axis = 1)\n"
   ]
  },
  {
   "cell_type": "code",
   "execution_count": 15,
   "metadata": {},
   "outputs": [],
   "source": [
    "def area_of_pixel(pixel_size, center_lat):\n",
    "\n",
    "    a = 6378137  # meters\n",
    "    b = 6356752.3142  # meters\n",
    "    e = math.sqrt(1 - (b/a)**2)\n",
    "    area_list = []\n",
    "    for f in [center_lat+pixel_size/2, center_lat-pixel_size/2]:\n",
    "        zm = 1 - e*math.sin(math.radians(f))\n",
    "        zp = 1 + e*math.sin(math.radians(f))\n",
    "        area_list.append(\n",
    "            math.pi * b**2 * (\n",
    "                math.log(zp/zm) / (2*e) +\n",
    "                math.sin(math.radians(f)) / (zp*zm)))\n",
    "    return (pixel_size / 360. * (area_list[0] - area_list[1])) * np.power(10.0,-4) "
   ]
  },
  {
   "cell_type": "code",
   "execution_count": 12,
   "metadata": {},
   "outputs": [],
   "source": [
    "def get_total_carbon_stock(out_image, out_transform, pixel_size, width_0, height_0, width_1, height_1):\n",
    "    \n",
    "    # Create matrix of coordinates based in tile number.\n",
    "    cols, rows = np.meshgrid(np.arange(width_0, width_1), np.arange(height_0, height_1))\n",
    "\n",
    "    # Transform the tile number coordinates to real coordinates and extract only latitude information. \n",
    "    ys = rasterio.transform.xy(out_transform, rows, cols)[1]\n",
    "    latitudes = np.array(ys) # Cast the list of arrays to a 2D array for computational convenience.\n",
    "\n",
    "    # Iterate over the latitudes matrix, calculate the area of each tile and store it in the real_raster_areas array.\n",
    "    real_raster_areas = np.empty(np.shape(latitudes))\n",
    "    for i, latitude_array in enumerate(latitudes):\n",
    "        for j, latitude in enumerate(latitude_array):\n",
    "            real_raster_areas[i,j] = area_of_pixel(pixel_size, latitude)\n",
    "\n",
    "    # Calculate the total carbon stock in each tile: tonnes/hectare * hectares = tonnes.    \n",
    "    total_carbon_stock_array = real_raster_areas * np.transpose(out_image[0,height_0:height_1,width_0:width_1])\n",
    "\n",
    "    # Sum all the carbon stock values in the country treating NaNs as 0.0. \n",
    "    total_carbon_stock = np.nansum(total_carbon_stock_array) \n",
    "\n",
    "    return total_carbon_stock"
   ]
  },
  {
   "cell_type": "code",
   "execution_count": 33,
   "metadata": {},
   "outputs": [],
   "source": [
    "def raster_tiling(out_image, out_transform, pixel_size, width, height):\n",
    "\n",
    "    tilesize = 1000\n",
    "    total_acumulated_carbon_stock = 0\n",
    "\n",
    "    for i in range(tilesize, width, tilesize): #tilesize marks from where to where in width\n",
    "        w0 = i\n",
    "        w1 = min(i+tilesize, width) -i\n",
    "        for j in range(tilesize, height, tilesize):\n",
    "            #this is for the edge parts, so we don't get nodata from the borders\n",
    "            h0 = j\n",
    "            h1 = min(j+tilesize, height) - j\n",
    "\n",
    "            total_carbon_stock = get_total_carbon_stock(out_image, out_transform, pixel_size, w0, h0, w1, h1)\n",
    "\n",
    "            total_acumulated_carbon_stock += total_carbon_stock\n",
    "\n",
    "    return total_acumulated_carbon_stock\n"
   ]
  },
  {
   "cell_type": "code",
   "execution_count": 16,
   "metadata": {},
   "outputs": [
    {
     "name": "stdout",
     "output_type": "stream",
     "text": [
      "We are working with the file \\\\akif.internal\\public\\veg_c_storage_rawdata\\vcs_2001_global_300m.tif from the year 2001\n"
     ]
    }
   ],
   "source": [
    "\"\"\"We set ourselves in the folder with the rasters\"\"\"\n",
    "os.chdir(path)\n",
    "\n",
    "\"\"\"Iterate the rasters\"\"\"\n",
    "for file in File_list[0:1]: # CUIDATO CUANDO TERMINES BORRALO\n",
    "    \"\"\"Take the year of the file\"\"\"\n",
    "    file_start = file.find(\"vcs_\") + 4\n",
    "    file_end = file_start + 4\n",
    "    file_year = str(file[file_start:file_end])\n",
    "    print(\"We are working with the file {} from the year {}\".format(file, file_year))\n"
   ]
  },
  {
   "cell_type": "code",
   "execution_count": 23,
   "metadata": {},
   "outputs": [
    {
     "name": "stdout",
     "output_type": "stream",
     "text": [
      "  working with the country Kiribati \n",
      "the masking has been done\n"
     ]
    },
    {
     "ename": "KeyboardInterrupt",
     "evalue": "",
     "output_type": "error",
     "traceback": [
      "\u001b[1;31m---------------------------------------------------------------------------\u001b[0m",
      "\u001b[1;31mKeyboardInterrupt\u001b[0m                         Traceback (most recent call last)",
      "\u001b[1;32m~\\AppData\\Local\\Temp/ipykernel_3824/275201751.py\u001b[0m in \u001b[0;36m<module>\u001b[1;34m\u001b[0m\n\u001b[0;32m     35\u001b[0m         \u001b[1;32mfor\u001b[0m \u001b[0mi\u001b[0m\u001b[1;33m,\u001b[0m \u001b[0mlatitude_array\u001b[0m \u001b[1;32min\u001b[0m \u001b[0menumerate\u001b[0m\u001b[1;33m(\u001b[0m\u001b[0mlatitudes\u001b[0m\u001b[1;33m)\u001b[0m\u001b[1;33m:\u001b[0m\u001b[1;33m\u001b[0m\u001b[1;33m\u001b[0m\u001b[0m\n\u001b[0;32m     36\u001b[0m             \u001b[1;32mfor\u001b[0m \u001b[0mj\u001b[0m\u001b[1;33m,\u001b[0m \u001b[0mlatitude\u001b[0m \u001b[1;32min\u001b[0m \u001b[0menumerate\u001b[0m\u001b[1;33m(\u001b[0m\u001b[0mlatitude_array\u001b[0m\u001b[1;33m)\u001b[0m\u001b[1;33m:\u001b[0m\u001b[1;33m\u001b[0m\u001b[1;33m\u001b[0m\u001b[0m\n\u001b[1;32m---> 37\u001b[1;33m                 \u001b[0mreal_raster_areas\u001b[0m\u001b[1;33m[\u001b[0m\u001b[0mi\u001b[0m\u001b[1;33m,\u001b[0m\u001b[0mj\u001b[0m\u001b[1;33m]\u001b[0m \u001b[1;33m=\u001b[0m \u001b[0marea_of_pixel\u001b[0m\u001b[1;33m(\u001b[0m\u001b[0mpixel_size\u001b[0m\u001b[1;33m,\u001b[0m \u001b[0mlatitude\u001b[0m\u001b[1;33m)\u001b[0m\u001b[1;33m\u001b[0m\u001b[1;33m\u001b[0m\u001b[0m\n\u001b[0m\u001b[0;32m     38\u001b[0m \u001b[1;33m\u001b[0m\u001b[0m\n\u001b[0;32m     39\u001b[0m         \u001b[1;31m# Calculate the total carbon stock in each tile: tonnes/hectare * hectares = tonnes.\u001b[0m\u001b[1;33m\u001b[0m\u001b[1;33m\u001b[0m\u001b[1;33m\u001b[0m\u001b[0m\n",
      "\u001b[1;32m~\\AppData\\Local\\Temp/ipykernel_3824/4083015764.py\u001b[0m in \u001b[0;36marea_of_pixel\u001b[1;34m(pixel_size, center_lat)\u001b[0m\n\u001b[0;32m     12\u001b[0m                 \u001b[0mmath\u001b[0m\u001b[1;33m.\u001b[0m\u001b[0mlog\u001b[0m\u001b[1;33m(\u001b[0m\u001b[0mzp\u001b[0m\u001b[1;33m/\u001b[0m\u001b[0mzm\u001b[0m\u001b[1;33m)\u001b[0m \u001b[1;33m/\u001b[0m \u001b[1;33m(\u001b[0m\u001b[1;36m2\u001b[0m\u001b[1;33m*\u001b[0m\u001b[0me\u001b[0m\u001b[1;33m)\u001b[0m \u001b[1;33m+\u001b[0m\u001b[1;33m\u001b[0m\u001b[1;33m\u001b[0m\u001b[0m\n\u001b[0;32m     13\u001b[0m                 math.sin(math.radians(f)) / (zp*zm)))\n\u001b[1;32m---> 14\u001b[1;33m     \u001b[1;32mreturn\u001b[0m \u001b[1;33m(\u001b[0m\u001b[0mpixel_size\u001b[0m \u001b[1;33m/\u001b[0m \u001b[1;36m360.\u001b[0m \u001b[1;33m*\u001b[0m \u001b[1;33m(\u001b[0m\u001b[0marea_list\u001b[0m\u001b[1;33m[\u001b[0m\u001b[1;36m0\u001b[0m\u001b[1;33m]\u001b[0m \u001b[1;33m-\u001b[0m \u001b[0marea_list\u001b[0m\u001b[1;33m[\u001b[0m\u001b[1;36m1\u001b[0m\u001b[1;33m]\u001b[0m\u001b[1;33m)\u001b[0m\u001b[1;33m)\u001b[0m \u001b[1;33m*\u001b[0m \u001b[0mnp\u001b[0m\u001b[1;33m.\u001b[0m\u001b[0mpower\u001b[0m\u001b[1;33m(\u001b[0m\u001b[1;36m10.0\u001b[0m\u001b[1;33m,\u001b[0m\u001b[1;33m-\u001b[0m\u001b[1;36m4\u001b[0m\u001b[1;33m)\u001b[0m\u001b[1;33m\u001b[0m\u001b[1;33m\u001b[0m\u001b[0m\n\u001b[0m",
      "\u001b[1;31mKeyboardInterrupt\u001b[0m: "
     ]
    }
   ],
   "source": [
    "\n",
    "\"\"\"Create a list of the carbon values\"\"\"\n",
    "carbon_values = []\n",
    "\n",
    "\"\"\"Open the raster\"\"\"\n",
    "with rasterio.open(file) as raster_file:\n",
    "\n",
    "    gt = raster_file.transform # Get all the raster properties on a list.\n",
    "    pixel_size = gt[0]\n",
    "\n",
    "    \"\"\"Iterate on the gdf\"\"\"\n",
    "    for row_index, row in gdf.loc[233:233].iterrows(): # gdf.loc[0:1].iterrows():\n",
    "        geo_row = gpd.GeoSeries(row['geometry'])\n",
    "\n",
    "        print(\"\\r\", \" working with the country {} \".format(row[\"ADM0_NAME\"]))\n",
    "\n",
    "        \"\"\"Do the masking\"\"\"\n",
    "        out_image, out_transform = rasterio.mask.mask(raster_file, geo_row, crop=True)\n",
    "        print(\"the masking has been done\")\n",
    "        \"\"\"get the pixel area value\"\"\"\n",
    "        \n",
    "        # Create a global raster where each pixel's value corresponds to its true area in hectares.\n",
    "\n",
    "        # Obtain the number of tiles in both directions.\n",
    "        height = out_image.shape[1]\n",
    "        width  = out_image.shape[2]\n",
    "        \n",
    "        cols, rows = np.meshgrid(np.arange(width), np.arange(height))\n",
    "\n",
    "        # Transform the tile number coordinates to real coordinates and extract only latitude information. \n",
    "        ys = rasterio.transform.xy(out_transform, rows, cols)[1]\n",
    "        latitudes = np.array(ys) # Cast the list of arrays to a 2D array for computational convenience.\n",
    "\n",
    "        # Iterate over the latitudes matrix, calculate the area of each tile and store it in the real_raster_areas array.\n",
    "        real_raster_areas = np.empty(np.shape(latitudes))\n",
    "        for i, latitude_array in enumerate(latitudes):\n",
    "            for j, latitude in enumerate(latitude_array):\n",
    "                real_raster_areas[i,j] = area_of_pixel(pixel_size, latitude)\n",
    "\n",
    "        # Calculate the total carbon stock in each tile: tonnes/hectare * hectares = tonnes.    \n",
    "        total_carbon_stock_array = real_raster_areas * out_image[0,0:height,0:width]\n",
    "\n",
    "        # Sum all the carbon stock values in the country treating NaNs as 0.0. \n",
    "        total_carbon_stock = np.nansum(total_carbon_stock_array) \n",
    "\n",
    "        \"\"\"Sum the values ignoring the nan values\"\"\"\n",
    "        carbon_total = np.nansum(out_image) # nansum treats nan values as 0, we have to do this since with sum we get as result nan\n",
    "\n",
    "        \"\"\"Append the value to the list\"\"\"\n",
    "        # carbon_values.append(total_carbon_stock)\n",
    "\n",
    "        print(\"\\r\", \"the country {} is finished\".format(row[\"ADM0_NAME\"]), end=\"\") #this is, so we delete the previous print\n",
    "        \n",
    "print(\"\\r\", \"Finished calculating {} year raster\".format(file_year), end=\"\")\n",
    "\n",
    "\n",
    "\"\"\"Transform the list into a dataframe with the header of the year\"\"\"\n",
    "# carbon_values_s = pd.DataFrame(carbon_values, columns = [file_year])\n",
    "\n",
    "\"\"\"Append the dataframe to the final dataframe\"\"\"\n",
    "# df_final = df_final.join(carbon_values_s)\n",
    "\n",
    "\"\"\"Export the result\"\"\"\n",
    "# df_final.to_csv(\"total_carbon.csv\")"
   ]
  },
  {
   "cell_type": "code",
   "execution_count": 20,
   "metadata": {},
   "outputs": [
    {
     "data": {
      "image/png": "[encoded data removed]",
      "text/plain": [
       "<Figure size 432x288 with 1 Axes>"
      ]
     },
     "metadata": {
      "needs_background": "light"
     },
     "output_type": "display_data"
    },
    {
     "data": {
      "text/plain": [
       "<AxesSubplot:>"
      ]
     },
     "execution_count": 20,
     "metadata": {},
     "output_type": "execute_result"
    }
   ],
   "source": [
    "show(out_image)"
   ]
  },
  {
   "cell_type": "code",
   "execution_count": 21,
   "metadata": {},
   "outputs": [
    {
     "data": {
      "text/plain": [
       "4.42091052"
      ]
     },
     "execution_count": 21,
     "metadata": {},
     "output_type": "execute_result"
    }
   ],
   "source": [
    "(out_image.nbytes) / np.power(10.0,9)"
   ]
  },
  {
   "cell_type": "code",
   "execution_count": null,
   "metadata": {},
   "outputs": [],
   "source": [
    "height = out_image.shape[2]\n",
    "width  = out_image.shape[1]\n",
    "\n",
    "total_acumulated_carbon_stock = 0\n",
    "\n",
    "if out_image.nbytes > (5* 10**9):\n",
    "    print(\"the country  exceeds 5Gb of memory, we will split the array in tiles of 1000. Current size is GB: {} \".format(row[\"ADM0_NAME\"], (out_image.nbytes) / np.power(10.0,9)))\n",
    "\n",
    "    tilesize = 1000\n",
    "    total_acumulated_carbon_stock = 0\n",
    "\n",
    "    for i in range(0, width, tilesize): # [0:3] tilesize marks from where to where in width\n",
    "        w0 = i #start of the array\n",
    "        w_plus = min(i+tilesize, width) - i #addition value\n",
    "        w1 = w0 + w_plus\n",
    "        for j in range(0, height, tilesize):\n",
    "            # [0:3] this is for the edge parts, so we don't get nodata from the borders\n",
    "            h0 = j\n",
    "            h_plus = min(j+tilesize, height) - j #addition value\n",
    "            h1 = h0 + h_plus\n",
    "            print(\"w0 \", w0, \"w1 \", w1, \"h0 \", h0, \"h1 \", h1)\n",
    "            cols, rows = np.meshgrid(np.arange(w0, w1), np.arange(h0, h1))\n",
    "\n",
    "            # Transform the tile number coordinates to real coordinates and extract only latitude information. \n",
    "            ys = rasterio.transform.xy(out_transform, rows, cols)[1] # [0] is xs\n",
    "            latitudes = np.array(ys) # Cast the list of arrays to a 2D array for computational convenience.\n",
    "\n",
    "            # Iterate over the latitudes matrix, calculate the area of each tile and store it in the real_raster_areas array.\n",
    "            real_raster_areas = np.empty(np.shape(latitudes))\n",
    "            for i, latitude_array in enumerate(latitudes):\n",
    "                for j, latitude in enumerate(latitude_array):\n",
    "                    real_raster_areas[i,j] = area_of_pixel(pixel_size, latitude)\n",
    "\n",
    "            # Calculate the total carbon stock in each tile: tonnes/hectare * hectares = tonnes.    \n",
    "            total_carbon_stock_array = real_raster_areas * np.transpose(out_image[0,w0:w1,h0:h1])\n",
    "\n",
    "            # Sum all the carbon stock values in the country treating NaNs as 0.0. \n",
    "            total_carbon_stock = np.nansum(total_carbon_stock_array) \n",
    "            \n",
    "            total_acumulated_carbon_stock += total_carbon_stock\n",
    "            # print(total_carbon_stock)\n",
    "    print(total_acumulated_carbon_stock)"
   ]
  },
  {
   "cell_type": "markdown",
   "metadata": {},
   "source": [
    "Here is the same code separated in different blocks for testing"
   ]
  },
  {
   "cell_type": "code",
   "execution_count": 5,
   "metadata": {},
   "outputs": [
    {
     "name": "stdout",
     "output_type": "stream",
     "text": [
      "['\\\\\\\\akif.internal\\\\public\\\\veg_c_storage_rawdata\\\\vcs_2001_global_300m.tif', '\\\\\\\\akif.internal\\\\public\\\\veg_c_storage_rawdata\\\\vcs_2002_global_300m.tif']\n"
     ]
    }
   ],
   "source": [
    "\"\"\"This is the location of the raster files\"\"\"\n",
    "# Note: the file name structure must be vcs_YYYY_global_300m.tif'\n",
    "path = r\"//akif.internal/public/veg_c_storage_rawdata\"\n",
    "\n",
    "\"\"\"Get a list of the raster files inside the folder\"\"\"\n",
    "File_list = []\n",
    "for file in os.listdir(path):\n",
    "    # Iterate over all the files in the specified directory.\n",
    "    if \".tif\" in file:\n",
    "        # Process the file if it has a .tif format.\n",
    "        if platform.system() is \"Windows\":\n",
    "            address = os.path.join(path, file).replace(\"/\",\"\\\\\")\n",
    "        else:\n",
    "            address = os.path.join(path, file).replace(\"\\\\\",\"/\")\n",
    "            #build the path according the OS running the script\n",
    "        if address not in File_list:\n",
    "            # Add the file address to the list if it had not been added before.\n",
    "            File_list.append(address)\n",
    "    else:\n",
    "        pass\n",
    "print(File_list[0:2])"
   ]
  },
  {
   "cell_type": "code",
   "execution_count": 6,
   "metadata": {},
   "outputs": [
    {
     "name": "stdout",
     "output_type": "stream",
     "text": [
      "We are working with the file \\\\akif.internal\\public\\veg_c_storage_rawdata\\vcs_2001_global_300m.tif from the year 2001\n"
     ]
    }
   ],
   "source": [
    "\"\"\"We set ourselves in the folder with the rasters\"\"\"\n",
    "os.chdir(path)\n",
    "\n",
    "\"\"\"Iterate the rasters\"\"\"\n",
    "for file in File_list[0:1]:\n",
    "    \"\"\"Take the year of the file\"\"\"\n",
    "    file_start = file.find(\"vcs_\") + 4\n",
    "    file_end = file_start + 4\n",
    "    file_year = str(file[file_start:file_end])\n",
    "    print(\"We are working with the file {} from the year {}\".format(file, file_year))"
   ]
  },
  {
   "cell_type": "code",
   "execution_count": 7,
   "metadata": {},
   "outputs": [],
   "source": [
    "\"\"\"This is the location of the vector global layer\"\"\"\n",
    "globalmap = r\"\\\\akif.internal\\public\\z_resources\\im-wb\\2015_gaul_dataset_mod_2015_gaul_dataset_gdba0000000b.shp\"\n",
    "\n",
    "if platform.system() is \"Windows\":\n",
    "    globalmap = globalmap.replace(\"/\",\"\\\\\")\n",
    "else:\n",
    "    globalmap = globalmap.replace(\"\\\\\",\"/\")\n",
    "    #build the path according the OS running the script\n",
    "\n",
    "\"\"\"Prepare the dataframe / df for the final table\"\"\"   \n",
    "gdf = gpd.read_file(globalmap)\n",
    "\n",
    "df_final = pd.DataFrame(gdf.drop(columns='geometry'))\n",
    "df_final = df_final.drop([\"STATUS\", \"DISP_AREA\", \"ADM0_CODE\", \"STR0_YEAR\", \"EXP0_YEAR\", \"Shape_Leng\", \"ISO3166_1_\", \"ISO3166__1\", \"Shape_Le_1\", \"Shape_Area\"], axis = 1)\n"
   ]
  },
  {
   "cell_type": "code",
   "execution_count": 30,
   "metadata": {},
   "outputs": [
    {
     "name": "stdout",
     "output_type": "stream",
     "text": [
      "the country Rwanda is finished\n",
      "Finished calculating 2001 Year\n"
     ]
    }
   ],
   "source": [
    "aggregated_carbon_stock_df = pd.DataFrame([])\n",
    "\n",
    "carbon_values = []\n",
    "\n",
    "\"\"\"Iterate on the gdf\"\"\"\n",
    "for row_index, row in gdf.loc[87:87].iterrows(): # gdf.loc[0:1].iterrows():\n",
    "    geo_row = gpd.GeoSeries(row['geometry'])\n",
    "\n",
    "    \"\"\"Do the masking\"\"\"\n",
    "    with rasterio.open(file) as raster_file:\n",
    "        \n",
    "        \n",
    "        \n",
    "        # band = raster_file.read(1)\n",
    "        out_image, out_transform = rasterio.mask.mask(raster_file, geo_row, crop=True)\n",
    "\n",
    "        \"\"\"get the pixel size\"\"\"\n",
    "\n",
    "        \n",
    "    \"\"\"Sum the values ignoring the nan values\"\"\"\n",
    "    carbon_total = np.nansum(out_image) # nansum treats nan values as 0, we have to do this since with sum we get as result nan\n",
    "\n",
    "    \"\"\"Append the value to the list\"\"\"\n",
    "    carbon_values.append(carbon_total)\n",
    "\n",
    "    print(\"the country {} is finished\".format(row[\"ADM0_NAME\"]))\n",
    "    \n",
    "print(\"Finished calculating {} Year\".format(file_year))\n",
    "# time: for 1 year took 83m\n",
    "\n",
    "aggregated_carbon_stock = pd.DataFrame(carbon_values, columns = [file_year]) \n",
    "\n",
    "# # Join this year's carbon stocks to the final, multi-year DataFrame.\n",
    "# aggregated_carbon_stock_df = pd.merge(aggregated_carbon_stock_df, aggregated_carbon_stock, how='outer', left_index = True, right_index=True)"
   ]
  },
  {
   "cell_type": "code",
   "execution_count": 18,
   "metadata": {},
   "outputs": [],
   "source": [
    "import math \n",
    "def area_of_pixel(pixel_size, center_lat):\n",
    "    \"\"\"Calculate m^2 area of a wgs84 square pixel.\n",
    "\n",
    "    Adapted from: https://gis.stackexchange.com/a/127327/2397\n",
    "\n",
    "    Parameters:\n",
    "        pixel_size (float): length of side of pixel in degrees.\n",
    "        center_lat (float): latitude of the center of the pixel. Note this\n",
    "            value +/- half the `pixel-size` must not exceed 90/-90 degrees\n",
    "            latitude or an invalid area will be calculated.\n",
    "\n",
    "    Returns:\n",
    "        Area of square pixel of side length `pixel_size` centered at\n",
    "        `center_lat` in m^2.\n",
    "\n",
    "    \"\"\"\n",
    "    a = 6378137  # meters\n",
    "    b = 6356752.3142  # meters\n",
    "    e = math.sqrt(1 - (b/a)**2)\n",
    "    area_list = []\n",
    "    for f in [center_lat+pixel_size/2, center_lat-pixel_size/2]:\n",
    "        zm = 1 - e*math.sin(math.radians(f))\n",
    "        zp = 1 + e*math.sin(math.radians(f))\n",
    "        area_list.append(\n",
    "            math.pi * b**2 * (\n",
    "                math.log(zp/zm) / (2*e) +\n",
    "                math.sin(math.radians(f)) / (zp*zm)))\n",
    "    return pixel_size / 360. * (area_list[0] - area_list[1])"
   ]
  },
  {
   "cell_type": "code",
   "execution_count": null,
   "metadata": {},
   "outputs": [],
   "source": []
  },
  {
   "cell_type": "code",
   "execution_count": 34,
   "metadata": {},
   "outputs": [
    {
     "name": "stdout",
     "output_type": "stream",
     "text": [
      "[ 0.  1.  5. nan]\n",
      "11422 7\n"
     ]
    }
   ],
   "source": [
    "\"\"\"Check if the result is correct\"\"\"\n",
    "print(np.unique(out_image))\n",
    "count_5 = np.count_nonzero(out_image == 5)\n",
    "count_1 = np.count_nonzero(out_image == 1)\n",
    "print(count_5, count_1)"
   ]
  },
  {
   "cell_type": "code",
   "execution_count": 50,
   "metadata": {},
   "outputs": [],
   "source": [
    "\"\"\"Transform the list into a dataframe with the header of the year\"\"\"\n",
    "carbon_values_s = pd.DataFrame(carbon_values, columns = [file_year])\n"
   ]
  },
  {
   "cell_type": "code",
   "execution_count": 51,
   "metadata": {},
   "outputs": [],
   "source": [
    "\"\"\"Append the dataframe to the final dataframe\"\"\"\n",
    "df_final_copy = df_final.join(carbon_values_s)"
   ]
  },
  {
   "cell_type": "code",
   "execution_count": 53,
   "metadata": {},
   "outputs": [],
   "source": [
    "\"\"\"Export the result\"\"\"\n",
    "df_final_copy.to_csv(\"total_carbon.csv\")"
   ]
  },
  {
   "cell_type": "code",
   "execution_count": 31,
   "metadata": {},
   "outputs": [],
   "source": [
    "\"\"\"This is the output method for rasterio\n",
    "the code expects 2 dimensions (height and width), so we \n",
    "have to transform the array from 3 to two dimensions like this [0,:,:]\n",
    "\"\"\"\n",
    "\n",
    "\"\"\"Prepare the metadata for the output\"\"\"\n",
    "# out_band = raster_file.read(1)\n",
    "# out_meta = out_image.meta\n",
    "# out_meta.update(\n",
    "#         dtype=rasterio.float32,\n",
    "#         count=1,\n",
    "#         compress='deflate')\n",
    "\n",
    "out_image_2 = out_image[0,:,:]\n",
    "\n",
    "\"\"\"testing write result\"\"\"\n",
    "with rasterio.open(os.path.join(path, 'Rwanda_carbon_2001.tif').replace(\"/\",\"\\\\\"), 'w', driver='GTiff', height = out_image_2.shape[0], width = out_image_2.shape[1],\n",
    "                            count=1, dtype=str(out_image_2.dtype),\n",
    "                            crs= rasterio.crs.CRS.from_string(\"EPSG:4326\"),\n",
    "                            transform=out_transform, compress='deflate') as dst:\n",
    "    dst.write_band(1, out_image[0,:,:].astype(rasterio.float32))"
   ]
  }
 ],
 "metadata": {
  "kernelspec": {
   "display_name": "Python 3.7.12 ('geo_env')",
   "language": "python",
   "name": "python3"
  },
  "language_info": {
   "codemirror_mode": {
    "name": "ipython",
    "version": 3
   },
   "file_extension": ".py",
   "mimetype": "text/x-python",
   "name": "python",
   "nbconvert_exporter": "python",
   "pygments_lexer": "ipython3",
   "version": "3.7.12"
  },
  "orig_nbformat": 4,
  "vscode": {
   "interpreter": {
    "hash": "3443882cbf9cbaf6f42816cc7aa7f372c345ad680ada25690ad2174b0388f2b7"
   }
  }
 },
 "nbformat": 4,
 "nbformat_minor": 2
}
