{
 "cells": [
  {
   "cell_type": "markdown",
   "metadata": {},
   "source": [
    "# Country-level vegetation carbon stock\n",
    "\n",
    "- This script performs the aggregation of global vegetation carbon stocks in Tonnes per Hectare at the country-level for the 2001-2020 period. <br>\n",
    "The result is a CSV table storing the total vegetation carbon stock in Tonnes for each country in the entire world and for each year between 2001 and 2020.\n",
    "- summary of the process:\n",
    "    1) Load the global vegetation carbon stock raster files produced by k.LAB for the 2001-2020 period.\n",
    "    2) Load the vector file containing the information on national borders. \n",
    "    3) Iterate over carbon stock maps (1 per year) and over countries.\n",
    "    4) For each year and each country: iterate over every raster tile belonging to the country, calculate total carbon stock and sum the result.\n",
    "    5) Progressively store the results in a list and produce a final table that is exported in CSV format.  "
   ]
  },
  {
   "cell_type": "code",
   "execution_count": 4,
   "metadata": {},
   "outputs": [],
   "source": [
    "import os\n",
    "import geopandas as gpd\n",
    "import rasterio\n",
    "import rasterio.mask\n",
    "from affine import Affine\n",
    "import numpy as np\n",
    "import pandas as pd\n",
    "import math\n",
    "import platform"
   ]
  },
  {
   "cell_type": "markdown",
   "metadata": {},
   "source": [
    "<b> Data inputs </b> <br>\n",
    "- vcs_rasters_directory: The directory containing the raster files for the global carbon stock data at 300m resolution. This is the data to be aggregated by country.\n",
    "Note that the raster filenames must have the following structure: vcs_YYYY_global_300m.tif.\n",
    "- country_polygons_file: Full address of the shapefile containing the data on country borders for the entire world. This determines the country's polygons \n",
    "inside which the aggregation of carbon stocks is done. "
   ]
  },
  {
   "cell_type": "code",
   "execution_count": null,
   "metadata": {},
   "outputs": [],
   "source": [
    "vcs_rasters_directory = r\"\\\\akif.internal\\public\\veg_c_storage_rawdata\" # Both Windows and Unix types of path writing are supported. \n",
    "country_polygons_file = r\"\\\\akif.internal\\public\\z_resources\\im-wb\\2015_gaul_dataset_mod_2015_gaul_dataset_global_countries_1.shp\""
   ]
  },
  {
   "cell_type": "markdown",
   "metadata": {},
   "source": [
    "<b> Locate the raster layers as input </b> <br>\n",
    "the get_raster_data functiongets the adresses of all the raster files (\"*.tif\") contained in the directory specified by path. Each raster file corresponds to a different year.\n",
    "- input:\n",
    "  - path: directory containing the raster data for the global vegetation carbon stocks at 300m resolution for each year.\n",
    "- output:\n",
    "  - file_list: a list storing the adresses of all the raster files containing the data to be aggregated by country. "
   ]
  },
  {
   "cell_type": "code",
   "execution_count": null,
   "metadata": {},
   "outputs": [],
   "source": [
    "def get_raster_data(path):\n",
    "    file_list = []\n",
    "    for file in os.listdir(path):\n",
    "        # Iterate over all the files in the specified directory.\n",
    "        if \".tif\" in file:\n",
    "            # Process the file if it has a .tif format.\n",
    "            if platform.system() is \"Windows\":\n",
    "                address = os.path.join(path, file).replace(\"/\",\"\\\\\")\n",
    "            else:\n",
    "                address = os.path.join(path, file).replace(\"\\\\\",\"/\")\n",
    "                #build the path according the OS running the script\n",
    "\n",
    "            if address not in file_list:\n",
    "                # Add the file address to the list if it had not been added before.\n",
    "                file_list.append(address)\n",
    "        else:\n",
    "            pass\n",
    "    # print(file_list)\n",
    "    return file_list"
   ]
  },
  {
   "cell_type": "markdown",
   "metadata": {},
   "source": [
    "<b> Locate the country vector layer </b> <br>\n",
    "the load_country_polygons function loads a shapefile containing vector data of country borders for the entire world as a GeoDataFrame.\n",
    "- Input:\n",
    "  - file: the adress of the shapefile with the country border data.\n",
    "- Output:\n",
    "  - gdf: a GeoDataFrame with country border data.  "
   ]
  },
  {
   "cell_type": "code",
   "execution_count": null,
   "metadata": {},
   "outputs": [],
   "source": [
    "def load_country_polygons(file):\n",
    "    if platform.system() is \"Windows\":\n",
    "        file = file.replace(\"/\",\"\\\\\")\n",
    "    else:\n",
    "        file = file.replace(\"\\\\\",\"/\")\n",
    "        #build the path according the OS running the script\n",
    "\n",
    "    gdf = gpd.read_file(file)\n",
    "    return gdf"
   ]
  },
  {
   "cell_type": "markdown",
   "metadata": {},
   "source": [
    "<b> Algorithm to calculate the pixel area </b> <br>\n",
    "the area_of_pixel function calculates the area, in hectares, of a wgs84 square raster tile. \n",
    "                  This function is adapted from https://gis.stackexchange.com/a/288034.\n",
    "- Input:\n",
    "    - pixel_size: is the length of the pixel side in degrees.\n",
    "    - center_lat: is the latitude of the center of the pixel. This value +/- half the `pixel-size` must not exceed 90/-90 degrees latitude or an invalid area will be calculated.\n",
    "- Output:\n",
    "    - the area of a square pixel of side length `pixel_size` centered at `center_lat` in hectares."
   ]
  },
  {
   "cell_type": "code",
   "execution_count": null,
   "metadata": {},
   "outputs": [],
   "source": [
    "def area_of_pixel(pixel_size, center_lat):\n",
    "\n",
    "    a = 6378137  # meters\n",
    "    b = 6356752.3142  # meters\n",
    "    e = math.sqrt(1 - (b/a)**2)\n",
    "    area_list = []\n",
    "    for f in [center_lat+pixel_size/2, center_lat-pixel_size/2]:\n",
    "        zm = 1 - e*math.sin(math.radians(f))\n",
    "        zp = 1 + e*math.sin(math.radians(f))\n",
    "        area_list.append(\n",
    "            math.pi * b**2 * (\n",
    "                math.log(zp/zm) / (2*e) +\n",
    "                math.sin(math.radians(f)) / (zp*zm)))\n",
    "    return (pixel_size / 360. * (area_list[0] - area_list[1])) * np.power(10.0,-4) "
   ]
  },
  {
   "cell_type": "markdown",
   "metadata": {},
   "source": [
    "<b> If the country extension is too big, we split it into different tiles </b> <br>\n",
    "raster_tiling is called when the output of the masking raster exceeds the 3Gb storage. To not get memory issues, we split the masked raster in tiles of 1000x1000, and calculate the total carbon stock, accumulating the value of the total carbon for every tile.\n",
    "- Input:\n",
    "    - out_image: is the masked raster layer, in the context of this script the vegetation carbon stock raster.\n",
    "    - out_transform: the Affine containing the transformation matrix with latitude and longitude values, resolution...\n",
    "    - pixel_size: is the side length in degrees of each square raster tile.\n",
    "    - width: is the width of the masked layer.\n",
    "    - height: is the height of the masked layer.\n",
    "- Output:\n",
    "    - a new raster layer where the value of each tile corresponds to its proper area in hectares."
   ]
  },
  {
   "cell_type": "code",
   "execution_count": null,
   "metadata": {},
   "outputs": [],
   "source": [
    "def raster_tiling(out_image, out_transform, pixel_size, width, height):\n",
    "    tilesize = 1000\n",
    "    total_acumulated_carbon_stock = 0\n",
    "\n",
    "    for i in range(0, width, tilesize): #tilesize marks from where to where in width\n",
    "        for j in range(0, height, tilesize):\n",
    "            #this is for the edge parts, so we don't get nodata from the borders\n",
    "            w0 = i #start of the array\n",
    "            w_plus = min(i+tilesize, width) - i #addition value\n",
    "            w1 = w0 + w_plus #end of the array\n",
    "            h0 = j #start of the array\n",
    "            h_plus = min(j+tilesize, height) - j #addition value\n",
    "            h1 = h0 + h_plus #end of the array\n",
    "\n",
    "            total_carbon_stock = get_total_carbon_stock(out_image, out_transform, pixel_size, w0, h0, w1, h1)\n",
    "\n",
    "            total_acumulated_carbon_stock += total_carbon_stock\n",
    "\n",
    "    return total_acumulated_carbon_stock"
   ]
  },
  {
   "cell_type": "markdown",
   "metadata": {},
   "source": [
    "<b> Calculate the carbon stock per country </b>  <br>\n",
    "    the get_total_carbon_stock function creates a raster layer based on a reference layer (out_image), where the value of each tile corresponds to its true area in hectares.\n",
    "- Input:\n",
    "    - out_image: is the baseline raster layer, in the context of this script the vegetation carbon stock raster.\n",
    "    - out_transform: the Affine containing the transformation matrix with latitude and longitude values, resolution...\n",
    "    - pixel_size: is the side length in degrees of each square raster tile.\n",
    "- Output:\n",
    "    - a new raster layer where the value of each tile corresponds to its proper area in hectares."
   ]
  },
  {
   "cell_type": "code",
   "execution_count": null,
   "metadata": {},
   "outputs": [],
   "source": [
    "def get_total_carbon_stock(out_image, out_transform, pixel_size, width_0, height_0, width_1, height_1):\n",
    "    # Create a matrix of coordinates based on tile number.\n",
    "    cols, rows = np.meshgrid(np.arange(width_0, width_1), np.arange(height_0, height_1))\n",
    "    \n",
    "    # Transform the tile number coordinates to real coordinates and extract only latitude information. \n",
    "    ys = rasterio.transform.xy(out_transform, rows, cols)[1] # [0] is xs\n",
    "    latitudes = np.array(ys) # Cast the list of arrays to a 2D array for computational convenience.\n",
    "\n",
    "    # Iterate over the latitudes matrix, calculate the area of each tile, and store it in the real_raster_areas array.\n",
    "    real_raster_areas = np.empty(np.shape(latitudes))\n",
    "    for i, latitude_array in enumerate(latitudes):\n",
    "        for j, latitude in enumerate(latitude_array):\n",
    "            real_raster_areas[i,j] = area_of_pixel(pixel_size, latitude)\n",
    "\n",
    "    # Calculate the total carbon stock in each tile: tonnes/hectare * hectares = tonnes.    \n",
    "    total_carbon_stock_array = real_raster_areas * out_image[0,height_0:height_1,width_0:width_1] #I don't think np.transpose() is necesary\n",
    "\n",
    "    # Sum all the carbon stock values in the country treating NaNs as 0.0. \n",
    "    total_carbon_stock = np.nansum(total_carbon_stock_array) \n",
    "\n",
    "    return total_carbon_stock"
   ]
  },
  {
   "cell_type": "markdown",
   "metadata": {},
   "source": [
    "<b> Accumulate the carbon stock values into a dataframe </b> <br>\n",
    "the carbon_stock_aggregation function aggregates vegetation carbon stock data in Tonnes per Hectare and with a resolution of 300m at the country level. \n",
    "                             The result of the aggregation is the total vegetation carbon stock in Tonnes for each country. Naturally, the \n",
    "                             dependence of raster tile area on the latitude is taken into account. The function iterates over the carbon stock \n",
    "                             rasters corresponding to different years.\n",
    "- Input:    \n",
    "    - raster_files_list: a list containing the addresses of all the raster files that store the vegetation carbon stock data for each year.\n",
    "    - country_polygons: a GeoDataFrame storing the polygons corresponding to each country for the entire world.\n",
    "- Output:\n",
    "    - a DataFrame storing the aggregated vegetation carbon stocks at the country level for each year."
   ]
  },
  {
   "cell_type": "code",
   "execution_count": null,
   "metadata": {},
   "outputs": [],
   "source": [
    "def carbon_stock_aggregation(raster_files_list, country_polygons):\n",
    "    \"\"\"\n",
    "    carbon_stock_aggregation aggregates vegetation carbon stock data in Tonnes per Hectare and with a resolution of 300m at the country level. \n",
    "                             The result of the aggregation is the total vegetation carbon stock in Tonnes for each country. Naturally, the \n",
    "                             dependence of raster tile area on the latitude is taken into account. The function iterates over the carbon stock \n",
    "                             rasters corresponding to different years.\n",
    "    \n",
    "    :param raster_files_list: a list containing the addresses of all the raster files that store the vegetation carbon stock data for each year.\n",
    "    :param country_polygons: a GeoDataFrame storing the polygons corresponding to each country for the entire world.\n",
    "    :return: a DataFrame storing the aggregated vegetation carbon stocks at the country level for each year.\n",
    "    \"\"\"\n",
    "    \n",
    "    # Final DataFrame will store the aggregated carbon stocks for each country and each year. \n",
    "    aggregated_carbon_stock_df = pd.DataFrame([])\n",
    "    \n",
    "    for file in raster_files_list[:]: # [10:]\n",
    "        # Iterate over all the raster files' addresses and extract the year from the address. \n",
    "        filename_length = 24 # This is the number of characters in the raster file name if the convention \"vcs_YYYY_global_300m.tif\" is followed.\n",
    "        start = len(file) - filename_length\n",
    "        year_string_start = file.find(\"vcs_\",start)\n",
    "        file_year = str( file[ year_string_start + 4 : year_string_start + 8] )\n",
    "        \n",
    "        print(\"We are working with the file {} from the year {}\".format(file, file_year))\n",
    "\n",
    "        aggregated_carbon_stock_list = [] # This list will store the results from the aggregation. \n",
    "\n",
    "        with rasterio.open(file) as raster_file: # Load the raster file.\n",
    "\n",
    "            gt = raster_file.transform # Get all the raster properties on a list.\n",
    "            pixel_size = gt[0] # X size is stored in position 0, Y size is stored in position 4.\n",
    "\n",
    "            for row_index, row in country_polygons.iterrows(): # gdf.loc[0:1].iterrows():\n",
    "                # Iterate over the country polygons to progressively calculate the total carbon stock in each one of them.\n",
    "                \n",
    "                geo_row = gpd.GeoSeries(row['geometry']) # This is the country's polygon geometry.\n",
    "\n",
    "                # Masks the raster over the current country. The masking requires two outputs:\n",
    "                # out_image: the array of the masked image. [z, y, x]\n",
    "                # out_transform: the Affine containing the transformation matrix with lat / long values, resolution...\n",
    "                out_image, out_transform = rasterio.mask.mask(raster_file, geo_row, crop=True) \n",
    "                \n",
    "                # Obtain the number of tiles in both directions.\n",
    "                height = out_image.shape[1]\n",
    "                width  = out_image.shape[2]\n",
    "\n",
    "                #check the size of the raster image\n",
    "                if out_image.nbytes > (3* 10**9):\n",
    "                    print(\"the country {} exceeds 3Gb of memory, we will split the array in tiles of 1000. Current size is GB: {} \".format(row[\"ADM0_NAME\"], (out_image.nbytes) / np.power(10.0,9)))\n",
    "\n",
    "                    total_carbon_stock = raster_tiling(out_image, out_transform, pixel_size, width, height)\n",
    "\n",
    "                else:\n",
    "                    # Create a global raster where each pixel's value corresponds to its true area in hectares.\n",
    "                    total_carbon_stock = get_total_carbon_stock(out_image, out_transform, pixel_size, 0, 0, width, height) \n",
    "                \n",
    "                # Add the aggregated stock to the list.\n",
    "                aggregated_carbon_stock_list.append(total_carbon_stock)  \n",
    "\n",
    "                print(\"the country {} is finished\".format(row[\"ADM0_NAME\"]))\n",
    "                \n",
    "        print(\"Finished calculating {} year raster\".format(file_year))\n",
    "    \n",
    "        # Transform the list to a DataFrame using the year as header.\n",
    "        aggregated_carbon_stock = pd.DataFrame(aggregated_carbon_stock_list, columns = [file_year]) \n",
    "\n",
    "        # Merge this year's carbon stocks to the final, multi-year DataFrame.\n",
    "        aggregated_carbon_stock_df = pd.merge(aggregated_carbon_stock_df, aggregated_carbon_stock, how='outer', left_index = True, right_index=True)\n",
    "\n",
    "        #export the carbon stock year as a backup \n",
    "        aggregated_carbon_stock.to_csv(\"carbon_stock_{}.csv\".format(file_year))\n",
    "\n",
    "    return aggregated_carbon_stock_df"
   ]
  },
  {
   "cell_type": "markdown",
   "metadata": {},
   "source": [
    "<b> Export the result into a csv </b> <br>\n",
    "export_to_csv creates a DataFrame where aggregated vegetation carbon stocks are associated with each country and exports this data in CSV format. <br>\n",
    "- Input:\n",
    "    - country_polygons: a GeoDataFrame storing the polygons corresponding to each country for the entire world.\n",
    "    - aggregated_carbon_stocks: a DataFrame storing the aggregated carbon stock values to be associated with each country.\n",
    "- Output:\n",
    "    - The function creates a \"total_carbon_test.csv\" file in the current working directory that contains the total vegetation carbon stock for each country."
   ]
  },
  {
   "cell_type": "code",
   "execution_count": null,
   "metadata": {},
   "outputs": [],
   "source": [
    "def export_to_csv(country_polygons, aggregated_carbon_stocks):   \n",
    "    # Create a DataFrame based on the country border GeoDataFrame and dropping unnecessary information to keep only: the polygons' Id, country codes, and administrative names.\n",
    "    df_final = pd.DataFrame(country_polygons.drop(columns='geometry'))\n",
    "    df_final = df_final.drop([\"STATUS\", \"DISP_AREA\", \"ADM0_CODE\", \"STR0_YEAR\", \"EXP0_YEAR\", \"Shape_Leng\", \"ISO3166_1_\", \"ISO3166__1\", \"Shape_Le_1\", \"Shape_Area\"], axis = 1)\n",
    "\n",
    "    # Join the depurated country DataFrame with the aggregated vegetation carbon stocks to associate each country with its total stock.  \n",
    "    df_final = df_final.join(aggregated_carbon_stocks)\n",
    "        \n",
    "    # Export the result to the current working directory.\n",
    "    df_final.to_csv(\"total_carbon.csv\")"
   ]
  },
  {
   "cell_type": "markdown",
   "metadata": {},
   "source": [
    "<b> Call the functions </b> <br>\n",
    "Step by step we call the functions following the process in order to achieve the final result"
   ]
  },
  {
   "cell_type": "code",
   "execution_count": null,
   "metadata": {},
   "outputs": [],
   "source": [
    "print(\"Loading data.\")\n",
    "vcs_rasters_list = get_raster_data(vcs_rasters_directory) \n",
    "country_polygons = load_country_polygons(country_polygons_file) \n",
    "print(\"Data was loaded succesfully.\")\n",
    "\n",
    "print(\"Starting aggregation process.\")\n",
    "vcs_aggregated   = carbon_stock_aggregation(vcs_rasters_list, country_polygons) \n",
    "print(\"Aggregation of vegetation carbon stocks at the country level finished.\")\n",
    "export_to_csv(country_polygons, vcs_aggregated) \n",
    "print(\"Total vegetation carbon stocks at the country level succesfully exported.\")"
   ]
  },
  {
   "cell_type": "markdown",
   "metadata": {},
   "source": [
    "<b> End of the code </b>"
   ]
  },
  {
   "cell_type": "markdown",
   "metadata": {},
   "source": []
  },
  {
   "cell_type": "markdown",
   "metadata": {},
   "source": [
    "## Appendix\n",
    "The following content includes the same code structured in different blocks without the use of functions, <br>\n",
    "to be able to test different aspects of it and analyze the behavior of the variables."
   ]
  },
  {
   "cell_type": "code",
   "execution_count": null,
   "metadata": {},
   "outputs": [],
   "source": [
    "\"\"\"The directory containing the raster files for the global carbon stock data at 300m resolution\"\"\"\n",
    "# Note: the file name structure must be vcs_YYYY_global_300m.tif'\n",
    "vcs_rasters_directory = r\"\\\\akif.internal\\public\\veg_c_storage_rawdata\"\n",
    "\n",
    "\"\"\"Get a list of the raster files inside the folder\"\"\"\n",
    "file_list = []\n",
    "for file in os.listdir(vcs_rasters_directory):\n",
    "    # Iterate over all the files in the specified directory.\n",
    "    if \".tif\" in file:\n",
    "        # Process the file if it has a .tif format.\n",
    "        if platform.system() is \"Windows\":\n",
    "            address = os.path.join(vcs_rasters_directory, file).replace(\"/\",\"\\\\\")\n",
    "        else:\n",
    "            address = os.path.join(vcs_rasters_directory, file).replace(\"\\\\\",\"/\")\n",
    "            #build the path according the OS running the script\n",
    "\n",
    "        if address not in file_list:\n",
    "            # Add the file address to the list if it had not been added before.\n",
    "            file_list.append(address)\n",
    "    else:\n",
    "        pass\n",
    "\n",
    "file_list[0:1]"
   ]
  },
  {
   "cell_type": "code",
   "execution_count": null,
   "metadata": {},
   "outputs": [],
   "source": [
    "\"\"\"Full address of the shapefile containing the data on country borders for the entire world.\"\"\"\n",
    "country_polygons_file = r\"\\\\akif.internal\\public\\z_resources\\im-wb\\2015_gaul_dataset_mod_2015_gaul_dataset_global_countries_1.shp\"\n",
    "if platform.system() is \"Windows\":\n",
    "        file = file.replace(\"/\",\"\\\\\")\n",
    "else:\n",
    "    file = file.replace(\"\\\\\",\"/\")\n",
    "    #build the path according the OS running the script\n",
    "\n",
    "gdf = gpd.read_file(file)"
   ]
  },
  {
   "cell_type": "code",
   "execution_count": null,
   "metadata": {},
   "outputs": [],
   "source": [
    "\"\"\"We set the path in the folder with the rasters input\"\"\"\n",
    "os.chdir(vcs_rasters_directory)\n",
    "\n",
    "# Final DataFrame will store the aggregated carbon stocks for each country and each year. \n",
    "aggregated_carbon_stock_df = pd.DataFrame([])\n",
    "\n",
    "for file in file_list[:]: # to check a single country, set the OBJECTID value. Example: file_list[10:1']\n",
    "    # Iterate over all the raster files' addresses and extract the year from the address. \n",
    "    filename_length = 24 # This is the number of characters in the raster file name if the convention \"vcs_YYYY_global_300m.tif\" is followed.\n",
    "    start = len(file) - filename_length\n",
    "    year_string_start = file.find(\"vcs_\",start)\n",
    "    file_year = str( file[ year_string_start + 4 : year_string_start + 8] )\n",
    "    \n",
    "    print(\"We are working with the file {} from the year {}\".format(file, file_year))\n",
    "\n",
    "    aggregated_carbon_stock_list = [] # This list will store the results from the aggregation. \n",
    "\n",
    "    with rasterio.open(file) as raster_file: # Load the raster file.\n",
    "\n",
    "        gt = raster_file.transform # Get all the raster properties on a list.\n",
    "        pixel_size = gt[0] # X size is stored in position 0, Y size is stored in position 4.\n",
    "\n",
    "        for row_index, row in country_polygons.iterrows(): # gdf.loc[0:1].iterrows():\n",
    "            # Iterate over the country polygons to progressively calculate the total carbon stock in each one of them.\n",
    "            \n",
    "            geo_row = gpd.GeoSeries(row['geometry']) # This is the country's polygon geometry.\n",
    "\n",
    "            # Masks the raster over the current country. The masking requires two outputs:\n",
    "            # out_image: the array of the masked image. [z, y, x]\n",
    "            # out_transform: the Affine containing the transformation matrix with lat / long values, resolution...\n",
    "            out_image, out_transform = rasterio.mask.mask(raster_file, geo_row, crop=True) \n",
    "            \n",
    "            # Obtain the number of tiles in both directions.\n",
    "            height = out_image.shape[1]\n",
    "            width  = out_image.shape[2]\n",
    "\n",
    "            #check the size of the raster image\n",
    "            if out_image.nbytes > (3* 10**9):\n",
    "                print(\"the country {} exceeds 3Gb of memory, we will split the array in tiles of 1000. Current size is GB: {} \".format(row[\"ADM0_NAME\"], (out_image.nbytes) / np.power(10.0,9)))\n",
    "                print(\"Use the raster_tilling function\")\n",
    "\n",
    "            else:\n",
    "                print(\"Use directly the the get_total_carbon_stock function\")"
   ]
  },
  {
   "cell_type": "code",
   "execution_count": null,
   "metadata": {},
   "outputs": [],
   "source": [
    "\"\"\"raster_tilling function\"\"\"\n",
    "tilesize = 1000\n",
    "total_acumulated_carbon_stock = 0\n",
    "\n",
    "for i in range(0, width, tilesize): #tilesize marks from where to where in width\n",
    "    for j in range(0, height, tilesize):\n",
    "        #this is for the edge parts, so we don't get nodata from the borders\n",
    "        w0 = i #start of the array\n",
    "        w_plus = min(i+tilesize, width) - i #addition value\n",
    "        w1 = w0 + w_plus #end of the array\n",
    "        h0 = j #start of the array\n",
    "        h_plus = min(j+tilesize, height) - j #addition value\n",
    "        h1 = h0 + h_plus #end of the array\n",
    "        \n",
    "        print(\"w0 \", w0, \"w1 \", w1, \"h0 \", h0, \"h1 \", h1)\n",
    "        # Create a matrix of coordinates based on tile number.\n",
    "        cols, rows = np.meshgrid(np.arange(w0, w1), np.arange(h0, h1))\n",
    "        \n",
    "        # Transform the tile number coordinates to real coordinates and extract only latitude information. \n",
    "        ys = rasterio.transform.xy(out_transform, rows, cols)[1] # [0] is xs\n",
    "        latitudes = np.array(ys) # Cast the list of arrays to a 2D array for computational convenience.\n",
    "\n",
    "        # Iterate over the latitudes matrix, calculate the area of each tile, and store it in the real_raster_areas array.\n",
    "        real_raster_areas = np.empty(np.shape(latitudes))\n",
    "        for i, latitude_array in enumerate(latitudes):\n",
    "            for j, latitude in enumerate(latitude_array):\n",
    "                real_raster_areas[i,j] = area_of_pixel(pixel_size, latitude)\n",
    "\n",
    "        # Calculate the total carbon stock in each tile: tonnes/hectare * hectares = tonnes.    \n",
    "        total_carbon_stock_array = real_raster_areas * out_image[0,h0:h1,w0:w1] #I don't think np.transpose() is necesary\n",
    "\n",
    "        # Sum all the carbon stock values in the country treating NaNs as 0.0. \n",
    "        total_carbon_stock = np.nansum(total_carbon_stock_array) \n",
    "            \n",
    "        total_acumulated_carbon_stock += total_carbon_stock\n",
    "print(total_acumulated_carbon_stock)"
   ]
  },
  {
   "cell_type": "code",
   "execution_count": null,
   "metadata": {},
   "outputs": [],
   "source": [
    "\"\"\"get_total_carbon_stock function\"\"\"\n",
    "# Create a matrix of coordinates based on tile number.\n",
    "cols, rows = np.meshgrid(np.arange(0, width), np.arange(0, height))\n",
    "\n",
    "# Transform the tile number coordinates to real coordinates and extract only latitude information. \n",
    "ys = rasterio.transform.xy(out_transform, rows, cols)[1] # [0] is xs\n",
    "latitudes = np.array(ys) # Cast the list of arrays to a 2D array for computational convenience.\n",
    "\n",
    "# Iterate over the latitudes matrix, calculate the area of each tile, and store it in the real_raster_areas array.\n",
    "real_raster_areas = np.empty(np.shape(latitudes))\n",
    "for i, latitude_array in enumerate(latitudes):\n",
    "    for j, latitude in enumerate(latitude_array):\n",
    "        real_raster_areas[i,j] = area_of_pixel(pixel_size, latitude)\n",
    "\n",
    "# Calculate the total carbon stock in each tile: tonnes/hectare * hectares = tonnes.    \n",
    "total_carbon_stock_array = real_raster_areas * out_image[0,0:height,0:width] #I don't think np.transpose() is necesary\n",
    "\n",
    "# Sum all the carbon stock values in the country treating NaNs as 0.0. \n",
    "total_carbon_stock = np.nansum(total_carbon_stock_array) \n",
    "    \n",
    "total_acumulated_carbon_stock += total_carbon_stock\n",
    "\n",
    "print(total_acumulated_carbon_stock)"
   ]
  },
  {
   "cell_type": "code",
   "execution_count": 34,
   "metadata": {},
   "outputs": [
    {
     "name": "stdout",
     "output_type": "stream",
     "text": [
      "[ 0.  1.  5. nan]\n",
      "11422 7\n"
     ]
    }
   ],
   "source": [
    "\"\"\"In case we want to check the result of the sum of the carbon array, we can do it manually\"\"\"\n",
    "print(np.unique(out_image)) # unique values\n",
    "count_5 = np.count_nonzero(out_image == 5) # count number\n",
    "count_1 = np.count_nonzero(out_image == 1) # count number\n",
    "print(count_5, count_1)"
   ]
  },
  {
   "cell_type": "code",
   "execution_count": 31,
   "metadata": {},
   "outputs": [],
   "source": [
    "\"\"\" To export a country as a sample \"\"\"\n",
    "\n",
    "# the code expects 2 dimensions (height and width), so we have to transform the 3 dimension array. [0,:,:]\n",
    "\n",
    "#create a copy\n",
    "out_image_2 = out_image[0,:,:]\n",
    "\n",
    "\"\"\"testing write result\"\"\"\n",
    "with rasterio.open(os.path.join(vcs_rasters_directory, 'Country_name_YYYY.tif').replace(\"/\",\"\\\\\"), 'w', driver='GTiff', height = out_image_2.shape[0], width = out_image_2.shape[1],\n",
    "                            count=1, dtype=str(out_image_2.dtype),\n",
    "                            crs= rasterio.crs.CRS.from_string(\"EPSG:4326\"),\n",
    "                            transform=out_transform, compress='deflate') as dst:\n",
    "    dst.write_band(1, out_image_2.astype(rasterio.float32))"
   ]
  }
 ],
 "metadata": {
  "kernelspec": {
   "display_name": "Python 3.8.15 ('rasterio_env')",
   "language": "python",
   "name": "python3"
  },
  "language_info": {
   "codemirror_mode": {
    "name": "ipython",
    "version": 3
   },
   "file_extension": ".py",
   "mimetype": "text/x-python",
   "name": "python",
   "nbconvert_exporter": "python",
   "pygments_lexer": "ipython3",
   "version": "3.8.15"
  },
  "orig_nbformat": 4,
  "vscode": {
   "interpreter": {
    "hash": "73dbe77fa795adcd611523c0e13571b3f618ba9f055bda7fe5e0bb2cbf3117e9"
   }
  }
 },
 "nbformat": 4,
 "nbformat_minor": 2
}
